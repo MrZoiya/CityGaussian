{
 "cells": [
  {
   "metadata": {
    "ExecuteTime": {
     "end_time": "2025-07-10T02:58:28.260088Z",
     "start_time": "2025-07-10T02:58:28.255475Z"
    }
   },
   "cell_type": "code",
   "source": "import os",
   "id": "1e0aa0bf7ecdb316",
   "outputs": [],
   "execution_count": 1
  },
  {
   "metadata": {
    "ExecuteTime": {
     "end_time": "2025-07-10T02:58:28.310709Z",
     "start_time": "2025-07-10T02:58:28.307933Z"
    }
   },
   "cell_type": "code",
   "source": [
    "file_sparse = \"data/lausanne/sparse\"\n",
    "file_images = \"data/lausanne/images\"\n",
    "file_scene = \"data/lausanne\""
   ],
   "id": "20889bb59206ea31",
   "outputs": [],
   "execution_count": 2
  },
  {
   "metadata": {
    "ExecuteTime": {
     "end_time": "2025-07-10T02:58:28.409475Z",
     "start_time": "2025-07-10T02:58:28.407185Z"
    }
   },
   "cell_type": "code",
   "source": [
    "image_undistorter_command = f\"colmap image_undistorter --image_path {file_images} --input_path {file_sparse} --output_path {file_scene}\"\n",
    "\n",
    "print(image_undistorter_command)"
   ],
   "id": "6b2e8c3434696f82",
   "outputs": [
    {
     "name": "stdout",
     "output_type": "stream",
     "text": [
      "colmap image_undistorter --image_path data/lausanne/images --input_path data/lausanne/sparse --output_path data/lausanne\n"
     ]
    }
   ],
   "execution_count": 3
  },
  {
   "metadata": {
    "ExecuteTime": {
     "end_time": "2025-07-10T02:58:28.582878Z",
     "start_time": "2025-07-10T02:58:28.581189Z"
    }
   },
   "cell_type": "code",
   "source": "",
   "id": "4a15e5cd69c7b0d8",
   "outputs": [],
   "execution_count": null
  },
  {
   "metadata": {},
   "cell_type": "markdown",
   "source": "Estimate depth",
   "id": "e60a6f1aea8c1261"
  },
  {
   "cell_type": "code",
   "id": "initial_id",
   "metadata": {
    "collapsed": true,
    "ExecuteTime": {
     "end_time": "2025-07-10T02:58:28.650316Z",
     "start_time": "2025-07-10T02:58:28.646333Z"
    }
   },
   "source": [
    "ratio = 4\n",
    "os.makedirs(\"../logs\", exist_ok=True)\n",
    "downsample_command = f\"python utils/image_downsample.py {file_images} --factor {ratio}\"\n",
    "print(f\"{downsample_command} |& tee logs/downsample.log\")"
   ],
   "outputs": [
    {
     "name": "stdout",
     "output_type": "stream",
     "text": [
      "python utils/image_downsample.py data/lausanne/images --factor 4 |& tee logs/downsample.log\n"
     ]
    }
   ],
   "execution_count": 4
  },
  {
   "metadata": {
    "ExecuteTime": {
     "end_time": "2025-07-10T02:58:28.724724Z",
     "start_time": "2025-07-10T02:58:28.722043Z"
    }
   },
   "cell_type": "code",
   "source": [
    "estimate_command = f\"python utils/estimate_dataset_depths.py {file_scene} -d {ratio}\"\n",
    "print(f\"{estimate_command} |& tee estimate_depths.log\")"
   ],
   "id": "c6f23523fc3ad07d",
   "outputs": [
    {
     "name": "stdout",
     "output_type": "stream",
     "text": [
      "python utils/estimate_dataset_depths.py data/lausanne -d 4 |& tee estimate_depths.log\n"
     ]
    }
   ],
   "execution_count": 5
  },
  {
   "metadata": {},
   "cell_type": "markdown",
   "source": "A. Train coarse model",
   "id": "85e340fa6249d09b"
  },
  {
   "metadata": {
    "ExecuteTime": {
     "end_time": "2025-07-10T02:58:28.780511Z",
     "start_time": "2025-07-10T02:58:28.778087Z"
    }
   },
   "cell_type": "code",
   "source": [
    "coarse_file = \"configs/lausanne_coarse.yaml\"\n",
    "name_coarse = \"lausanne_coarse\"\n",
    "\n",
    "coarse_command = f\"python main.py fit --config {coarse_file} --n {name_coarse}\"\n",
    "log = \"tee logs/lausanne_coarse.log\"\n",
    "print(f\"{coarse_command} |& {log}\")"
   ],
   "id": "fcf5716fd900e1bd",
   "outputs": [
    {
     "name": "stdout",
     "output_type": "stream",
     "text": [
      "python main.py fit --config configs/lausanne_coarse.yaml --n lausanne_coarse |& tee logs/lausanne_coarse.log\n"
     ]
    }
   ],
   "execution_count": 6
  },
  {
   "metadata": {},
   "cell_type": "markdown",
   "source": "B. Model Partition and Data Assignment",
   "id": "6c723edfdddf6591"
  },
  {
   "metadata": {
    "ExecuteTime": {
     "end_time": "2025-07-10T02:58:28.830420Z",
     "start_time": "2025-07-10T02:58:28.827656Z"
    }
   },
   "cell_type": "code",
   "source": [
    "name_train = \"lausanne\"\n",
    "train_yaml = f\"configs/lausanne.yaml\"\n",
    "partition_command = f\"nohup python utils/partition_citygs.py --config_path {train_yaml} --force --origin auto\"\n",
    "log = \"tee logs/partition.log\"\n",
    "print(f\"{partition_command} |& {log}\")"
   ],
   "id": "91ef91d22262bae7",
   "outputs": [
    {
     "name": "stdout",
     "output_type": "stream",
     "text": [
      "nohup python utils/partition_citygs.py --config_path configs/lausanne.yaml --force --origin auto |& tee logs/partition.log\n"
     ]
    }
   ],
   "execution_count": 7
  },
  {
   "metadata": {},
   "cell_type": "markdown",
   "source": "C. Finetune model parallelly and merge",
   "id": "37fdb9c63410ad6f"
  },
  {
   "metadata": {
    "ExecuteTime": {
     "end_time": "2025-07-10T02:58:28.882371Z",
     "start_time": "2025-07-10T02:58:28.879596Z"
    }
   },
   "cell_type": "code",
   "source": [
    "fine_tune = f\"python utils/train_citygs_partitions.py -n {name_train} -p {name_train}\"\n",
    "print(f\"nohup {fine_tune} |& tee logs/train_citygs_partitions.log\")\n",
    "\n",
    "\n",
    "\n",
    "merge_command = f\"python utils/merge_citygs_ckpts.py outputs/{name_train}\"\n",
    "log = \"tee logs/merge_citygs.log\"\n",
    "print(merge_command + f\" |& {log}\")"
   ],
   "id": "2c6464f515645b56",
   "outputs": [
    {
     "name": "stdout",
     "output_type": "stream",
     "text": [
      "nohup python utils/train_citygs_partitions.py -n lausanne -p lausanne |& tee logs/train_citygs_partitions.log\n",
      "python utils/merge_citygs_ckpts.py outputs/lausanne |& tee logs/merge_citygs.log\n"
     ]
    }
   ],
   "execution_count": 8
  },
  {
   "metadata": {},
   "cell_type": "markdown",
   "source": "D. Evaluate Rendering Performance",
   "id": "bb6373fd6d7c8f68"
  },
  {
   "metadata": {
    "ExecuteTime": {
     "end_time": "2025-07-10T02:58:28.934831Z",
     "start_time": "2025-07-10T02:58:28.932334Z"
    }
   },
   "cell_type": "code",
   "source": [
    "test_command = f\"python main.py test --config outputs/{name_train}/config.yaml --save_val --test_speed\"\n",
    "print(f\"nohup {test_command} |& tee logs/test_citygs.log\")"
   ],
   "id": "c135fd81dadd0909",
   "outputs": [
    {
     "name": "stdout",
     "output_type": "stream",
     "text": [
      "nohup python main.py test --config outputs/lausanne/config.yaml --save_val --test_speed |& tee logs/test_citygs.log\n"
     ]
    }
   ],
   "execution_count": 9
  },
  {
   "metadata": {},
   "cell_type": "markdown",
   "source": "E. Mesh extraction and evaluation",
   "id": "2ad43a4e72a26682"
  },
  {
   "metadata": {
    "ExecuteTime": {
     "end_time": "2025-07-10T02:58:28.985114Z",
     "start_time": "2025-07-10T02:58:28.982775Z"
    }
   },
   "cell_type": "code",
   "source": [
    "mesh_command = f\"python utils/gs2d_mesh_extraction.py outputs/{name_train} --voxel_size 0.01 --sdf_trunc 0.04\"\n",
    "print(f\"nohup {mesh_command} |& tee logs/mesh_extraction.log\")"
   ],
   "id": "44e8875e53f4363e",
   "outputs": [
    {
     "name": "stdout",
     "output_type": "stream",
     "text": [
      "nohup python utils/gs2d_mesh_extraction.py outputs/lausanne --voxel_size 0.01 --sdf_trunc 0.04 |& tee logs/mesh_extraction.log\n"
     ]
    }
   ],
   "execution_count": 10
  },
  {
   "metadata": {},
   "cell_type": "markdown",
   "source": "F. Compression",
   "id": "2743f8c36d7ca54c"
  },
  {
   "metadata": {
    "ExecuteTime": {
     "end_time": "2025-07-10T02:58:29.034378Z",
     "start_time": "2025-07-10T02:58:29.032219Z"
    }
   },
   "cell_type": "code",
   "source": [
    "compression_command = f\"python tools/vectree_lightning.py --model_path outputs/{name_train} --save_path outputs/{name_train}/vectree --sh_degree 3 --gs_dim 3\"\n",
    "print(compression_command + \" |& tee logs/compression.log\")"
   ],
   "id": "d195981eb1ed2aa1",
   "outputs": [
    {
     "name": "stdout",
     "output_type": "stream",
     "text": [
      "python tools/vectree_lightning.py --model_path outputs/lausanne --save_path outputs/lausanne/vectree --sh_degree 3 --gs_dim 3 |& tee logs/compression.log\n"
     ]
    }
   ],
   "execution_count": 11
  },
  {
   "metadata": {
    "ExecuteTime": {
     "end_time": "2025-07-10T02:58:29.463448Z",
     "start_time": "2025-07-10T02:58:29.081798Z"
    }
   },
   "cell_type": "code",
   "source": [
    "sh_script = f\"/mnt/Data/yanns/CityGaussian/scripts/{name_train}.sh\"\n",
    "commands = [downsample_command,\n",
    "              estimate_command,\n",
    "              coarse_command,\n",
    "              partition_command,\n",
    "              fine_tune,\n",
    "              merge_command,\n",
    "              test_command,\n",
    "              mesh_command,\n",
    "              compression_command]\n",
    "\n",
    "if not os.path.exists(sh_script):\n",
    "    with open(sh_script, \"w\") as f:\n",
    "        f.write(\"#!/bin/bash\\n\")\n",
    "        f.write(\"set -e\\n\")  # Exit on error\n",
    "        f.write(\"set -x\\n\")  # Print commands before executing them\n",
    "\n",
    "with open(sh_script, \"w\") as f:\n",
    "    for command in commands:\n",
    "        f.write(command + \"\\n\")\n",
    "        f.write(\"echo 'Done: \" + command + \"'\\n\")\n",
    "\n",
    "\n",
    "\n",
    "\n",
    "\n"
   ],
   "id": "7b2bbac3ce3a78b0",
   "outputs": [
    {
     "ename": "FileNotFoundError",
     "evalue": "[Errno 2] No such file or directory: '/mnt/Data/yanns/CityGaussian/scripts/lausanne.sh'",
     "output_type": "error",
     "traceback": [
      "\u001B[0;31m---------------------------------------------------------------------------\u001B[0m",
      "\u001B[0;31mFileNotFoundError\u001B[0m                         Traceback (most recent call last)",
      "Cell \u001B[0;32mIn[12], line 13\u001B[0m\n\u001B[1;32m      2\u001B[0m commands \u001B[38;5;241m=\u001B[39m [downsample_command,\n\u001B[1;32m      3\u001B[0m               estimate_command,\n\u001B[1;32m      4\u001B[0m               coarse_command,\n\u001B[0;32m   (...)\u001B[0m\n\u001B[1;32m      9\u001B[0m               mesh_command,\n\u001B[1;32m     10\u001B[0m               compression_command]\n\u001B[1;32m     12\u001B[0m \u001B[38;5;28;01mif\u001B[39;00m \u001B[38;5;129;01mnot\u001B[39;00m os\u001B[38;5;241m.\u001B[39mpath\u001B[38;5;241m.\u001B[39mexists(sh_script):\n\u001B[0;32m---> 13\u001B[0m     \u001B[38;5;28;01mwith\u001B[39;00m \u001B[38;5;28;43mopen\u001B[39;49m\u001B[43m(\u001B[49m\u001B[43msh_script\u001B[49m\u001B[43m,\u001B[49m\u001B[43m \u001B[49m\u001B[38;5;124;43m\"\u001B[39;49m\u001B[38;5;124;43mw\u001B[39;49m\u001B[38;5;124;43m\"\u001B[39;49m\u001B[43m)\u001B[49m \u001B[38;5;28;01mas\u001B[39;00m f:\n\u001B[1;32m     14\u001B[0m         f\u001B[38;5;241m.\u001B[39mwrite(\u001B[38;5;124m\"\u001B[39m\u001B[38;5;124m#!/bin/bash\u001B[39m\u001B[38;5;130;01m\\n\u001B[39;00m\u001B[38;5;124m\"\u001B[39m)\n\u001B[1;32m     15\u001B[0m         f\u001B[38;5;241m.\u001B[39mwrite(\u001B[38;5;124m\"\u001B[39m\u001B[38;5;124mset -e\u001B[39m\u001B[38;5;130;01m\\n\u001B[39;00m\u001B[38;5;124m\"\u001B[39m)  \u001B[38;5;66;03m# Exit on error\u001B[39;00m\n",
      "File \u001B[0;32m~/miniconda3/envs/gspl/lib/python3.9/site-packages/IPython/core/interactiveshell.py:286\u001B[0m, in \u001B[0;36m_modified_open\u001B[0;34m(file, *args, **kwargs)\u001B[0m\n\u001B[1;32m    279\u001B[0m \u001B[38;5;28;01mif\u001B[39;00m file \u001B[38;5;129;01min\u001B[39;00m {\u001B[38;5;241m0\u001B[39m, \u001B[38;5;241m1\u001B[39m, \u001B[38;5;241m2\u001B[39m}:\n\u001B[1;32m    280\u001B[0m     \u001B[38;5;28;01mraise\u001B[39;00m \u001B[38;5;167;01mValueError\u001B[39;00m(\n\u001B[1;32m    281\u001B[0m         \u001B[38;5;124mf\u001B[39m\u001B[38;5;124m\"\u001B[39m\u001B[38;5;124mIPython won\u001B[39m\u001B[38;5;124m'\u001B[39m\u001B[38;5;124mt let you open fd=\u001B[39m\u001B[38;5;132;01m{\u001B[39;00mfile\u001B[38;5;132;01m}\u001B[39;00m\u001B[38;5;124m by default \u001B[39m\u001B[38;5;124m\"\u001B[39m\n\u001B[1;32m    282\u001B[0m         \u001B[38;5;124m\"\u001B[39m\u001B[38;5;124mas it is likely to crash IPython. If you know what you are doing, \u001B[39m\u001B[38;5;124m\"\u001B[39m\n\u001B[1;32m    283\u001B[0m         \u001B[38;5;124m\"\u001B[39m\u001B[38;5;124myou can use builtins\u001B[39m\u001B[38;5;124m'\u001B[39m\u001B[38;5;124m open.\u001B[39m\u001B[38;5;124m\"\u001B[39m\n\u001B[1;32m    284\u001B[0m     )\n\u001B[0;32m--> 286\u001B[0m \u001B[38;5;28;01mreturn\u001B[39;00m \u001B[43mio_open\u001B[49m\u001B[43m(\u001B[49m\u001B[43mfile\u001B[49m\u001B[43m,\u001B[49m\u001B[43m \u001B[49m\u001B[38;5;241;43m*\u001B[39;49m\u001B[43margs\u001B[49m\u001B[43m,\u001B[49m\u001B[43m \u001B[49m\u001B[38;5;241;43m*\u001B[39;49m\u001B[38;5;241;43m*\u001B[39;49m\u001B[43mkwargs\u001B[49m\u001B[43m)\u001B[49m\n",
      "\u001B[0;31mFileNotFoundError\u001B[0m: [Errno 2] No such file or directory: '/mnt/Data/yanns/CityGaussian/scripts/lausanne.sh'"
     ]
    }
   ],
   "execution_count": 12
  },
  {
   "metadata": {
    "ExecuteTime": {
     "end_time": "2025-07-10T02:58:29.467005153Z",
     "start_time": "2025-07-06T03:54:47.679187Z"
    }
   },
   "cell_type": "code",
   "source": "",
   "id": "6320791bc575f4b8",
   "outputs": [],
   "execution_count": null
  },
  {
   "metadata": {},
   "cell_type": "code",
   "outputs": [],
   "execution_count": null,
   "source": "",
   "id": "9d503bb8c56c4307"
  }
 ],
 "metadata": {
  "kernelspec": {
   "display_name": "Python 3",
   "language": "python",
   "name": "python3"
  },
  "language_info": {
   "codemirror_mode": {
    "name": "ipython",
    "version": 2
   },
   "file_extension": ".py",
   "mimetype": "text/x-python",
   "name": "python",
   "nbconvert_exporter": "python",
   "pygments_lexer": "ipython2",
   "version": "2.7.6"
  }
 },
 "nbformat": 4,
 "nbformat_minor": 5
}
