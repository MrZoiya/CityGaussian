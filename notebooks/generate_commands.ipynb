{
 "cells": [
  {
   "metadata": {
    "ExecuteTime": {
     "end_time": "2025-07-05T20:53:51.171387Z",
     "start_time": "2025-07-05T20:53:51.164980Z"
    }
   },
   "cell_type": "code",
   "source": "import os",
   "id": "1e0aa0bf7ecdb316",
   "outputs": [],
   "execution_count": 1
  },
  {
   "metadata": {
    "ExecuteTime": {
     "end_time": "2025-07-05T20:53:52.464505Z",
     "start_time": "2025-07-05T20:53:52.461668Z"
    }
   },
   "cell_type": "code",
   "source": [
    "file_sparse = \"data/lausanne_center/sparse\"\n",
    "file_images = \"data/lausanne_center/images\"\n",
    "file_scene = \"data/lausanne_center\""
   ],
   "id": "20889bb59206ea31",
   "outputs": [],
   "execution_count": 2
  },
  {
   "metadata": {
    "ExecuteTime": {
     "end_time": "2025-07-05T20:53:52.547213Z",
     "start_time": "2025-07-05T20:53:52.544605Z"
    }
   },
   "cell_type": "code",
   "source": [
    "image_undistorter_command = f\"colmap image_undistorter --image_path {file_images} --input_path {file_sparse} --output_path {file_scene}\"\n",
    "\n",
    "print(image_undistorter_command)"
   ],
   "id": "6b2e8c3434696f82",
   "outputs": [
    {
     "name": "stdout",
     "output_type": "stream",
     "text": [
      "colmap image_undistorter --image_path data/lausanne_center/images --input_path data/lausanne_center/sparse --output_path data/lausanne_center\n"
     ]
    }
   ],
   "execution_count": 3
  },
  {
   "metadata": {
    "ExecuteTime": {
     "end_time": "2025-07-05T20:53:52.590925Z",
     "start_time": "2025-07-05T20:53:52.588895Z"
    }
   },
   "cell_type": "code",
   "source": "",
   "id": "4a15e5cd69c7b0d8",
   "outputs": [],
   "execution_count": null
  },
  {
   "metadata": {},
   "cell_type": "markdown",
   "source": "Estimate depth",
   "id": "e60a6f1aea8c1261"
  },
  {
   "cell_type": "code",
   "id": "initial_id",
   "metadata": {
    "collapsed": true,
    "ExecuteTime": {
     "end_time": "2025-07-05T20:53:52.637348Z",
     "start_time": "2025-07-05T20:53:52.633697Z"
    }
   },
   "source": [
    "ratio = 4\n",
    "os.makedirs(\"../logs\", exist_ok=True)\n",
    "downsample_command = f\"python utils/image_downsample.py {file_images} --factor {ratio}\"\n",
    "print(f\"{downsample_command} |& tee logs/downsample.log\")"
   ],
   "outputs": [
    {
     "name": "stdout",
     "output_type": "stream",
     "text": [
      "python utils/image_downsample.py data/lausanne_center/images --factor 4 |& tee logs/downsample.log\n"
     ]
    }
   ],
   "execution_count": 4
  },
  {
   "metadata": {
    "ExecuteTime": {
     "end_time": "2025-07-05T20:53:52.688861Z",
     "start_time": "2025-07-05T20:53:52.686126Z"
    }
   },
   "cell_type": "code",
   "source": [
    "estimate_command = f\"python utils/estimate_dataset_depths.py {file_scene} -d {ratio}\"\n",
    "print(f\"{estimate_command} |& tee estimate_depths.log\")"
   ],
   "id": "c6f23523fc3ad07d",
   "outputs": [
    {
     "name": "stdout",
     "output_type": "stream",
     "text": [
      "python utils/estimate_dataset_depths.py data/lausanne_center -d 4 |& tee estimate_depths.log\n"
     ]
    }
   ],
   "execution_count": 5
  },
  {
   "metadata": {},
   "cell_type": "markdown",
   "source": "A. Train coarse model",
   "id": "85e340fa6249d09b"
  },
  {
   "metadata": {
    "ExecuteTime": {
     "end_time": "2025-07-05T20:53:52.736841Z",
     "start_time": "2025-07-05T20:53:52.733652Z"
    }
   },
   "cell_type": "code",
   "source": [
    "coarse_file = \"configs/lausanne_9000_coarse.yaml\"\n",
    "name_coarse = \"lausanne_coarse_9000\"\n",
    "\n",
    "coarse_command = f\"python main.py fit --config {coarse_file} --n {name_coarse}\"\n",
    "log = \"tee logs/lausanne_coarse.log\"\n",
    "print(f\"{coarse_command} |& {log}\")"
   ],
   "id": "fcf5716fd900e1bd",
   "outputs": [
    {
     "name": "stdout",
     "output_type": "stream",
     "text": [
      "python main.py fit --config configs/lausanne_9000_coarse.yaml --n lausanne_coarse_9000 |& tee logs/lausanne_coarse.log\n"
     ]
    }
   ],
   "execution_count": 6
  },
  {
   "metadata": {},
   "cell_type": "markdown",
   "source": "B. Model Partition and Data Assignment",
   "id": "6c723edfdddf6591"
  },
  {
   "metadata": {
    "ExecuteTime": {
     "end_time": "2025-07-06T03:54:21.305767Z",
     "start_time": "2025-07-06T03:54:21.207372Z"
    }
   },
   "cell_type": "code",
   "source": [
    "name_train = \"lausanne_center\"\n",
    "train_yaml = f\"configs/lausanne_train.yaml\"\n",
    "partition_command = f\"nohup python utils/partition_citygs.py --config_path {train_yaml} --force --origin auto\"\n",
    "log = \"tee logs/partition.log\"\n",
    "print(f\"{partition_command} |& {log}\")"
   ],
   "id": "91ef91d22262bae7",
   "outputs": [
    {
     "name": "stdout",
     "output_type": "stream",
     "text": [
      "nohup python utils/partition_citygs.py --config_path configs/lausanne_train.yaml --force --origin auto |& tee logs/partition.log\n"
     ]
    }
   ],
   "execution_count": 14
  },
  {
   "metadata": {},
   "cell_type": "markdown",
   "source": "C. Finetune model parallelly and merge",
   "id": "37fdb9c63410ad6f"
  },
  {
   "metadata": {
    "ExecuteTime": {
     "end_time": "2025-07-06T03:54:30.619852Z",
     "start_time": "2025-07-06T03:54:30.615963Z"
    }
   },
   "cell_type": "code",
   "source": [
    "fine_tune = f\"python utils/train_citygs_partitions.py -n {name_train} -p {name_train}\"\n",
    "print(f\"nohup {fine_tune} |& tee logs/train_citygs_partitions.log\")\n",
    "\n",
    "\n",
    "\n",
    "merge_command = f\"python utils/merge_citygs_ckpts.py outputs/{name_train}\"\n",
    "log = \"tee logs/merge_citygs.log\"\n",
    "print(merge_command + f\" |& {log}\")"
   ],
   "id": "2c6464f515645b56",
   "outputs": [
    {
     "name": "stdout",
     "output_type": "stream",
     "text": [
      "nohup python utils/train_citygs_partitions.py -n lausanne_center -p lausanne_center |& tee logs/train_citygs_partitions.log\n",
      "python utils/merge_citygs_ckpts.py outputs/lausanne_center |& tee logs/merge_citygs.log\n"
     ]
    }
   ],
   "execution_count": 15
  },
  {
   "metadata": {},
   "cell_type": "markdown",
   "source": "D. Evaluate Rendering Performance",
   "id": "bb6373fd6d7c8f68"
  },
  {
   "metadata": {
    "ExecuteTime": {
     "end_time": "2025-07-06T03:54:45.841939Z",
     "start_time": "2025-07-06T03:54:45.838704Z"
    }
   },
   "cell_type": "code",
   "source": [
    "test_command = f\"python main.py test --config outputs/{name_train}/config.yaml --save_val --test_speed\"\n",
    "print(f\"nohup {test_command} |& tee logs/test_citygs.log\")"
   ],
   "id": "c135fd81dadd0909",
   "outputs": [
    {
     "name": "stdout",
     "output_type": "stream",
     "text": [
      "nohup python main.py test --config outputs/lausanne_center/config.yaml --save_val --test_speed |& tee logs/test_citygs.log\n"
     ]
    }
   ],
   "execution_count": 17
  },
  {
   "metadata": {},
   "cell_type": "markdown",
   "source": "E. Mesh extraction and evaluation",
   "id": "2ad43a4e72a26682"
  },
  {
   "metadata": {
    "ExecuteTime": {
     "end_time": "2025-07-06T03:54:46.787751Z",
     "start_time": "2025-07-06T03:54:46.785083Z"
    }
   },
   "cell_type": "code",
   "source": [
    "mesh_command = f\"python utils/gs2d_mesh_extraction.py outputs/{name_train} --voxel_size 0.01 --sdf_trunc 0.04\"\n",
    "print(f\"nohup {mesh_command} |& tee logs/mesh_extraction.log\")"
   ],
   "id": "44e8875e53f4363e",
   "outputs": [
    {
     "name": "stdout",
     "output_type": "stream",
     "text": [
      "nohup python utils/gs2d_mesh_extraction.py outputs/lausanne_center --voxel_size 0.01 --sdf_trunc 0.04 |& tee logs/mesh_extraction.log\n"
     ]
    }
   ],
   "execution_count": 18
  },
  {
   "metadata": {},
   "cell_type": "markdown",
   "source": "F. Compression",
   "id": "2743f8c36d7ca54c"
  },
  {
   "metadata": {
    "ExecuteTime": {
     "end_time": "2025-07-06T03:54:47.311586Z",
     "start_time": "2025-07-06T03:54:47.308737Z"
    }
   },
   "cell_type": "code",
   "source": [
    "compression_command = f\"python tools/vectree_lightning.py --model_path outputs/{name_train} --save_path outputs/{name_train}/vectree --sh_degree 3 --gs_dim 3\"\n",
    "print(compression_command + \" |& tee logs/compression.log\")"
   ],
   "id": "d195981eb1ed2aa1",
   "outputs": [
    {
     "name": "stdout",
     "output_type": "stream",
     "text": [
      "python tools/vectree_lightning.py --model_path outputs/lausanne_center --save_path outputs/lausanne_center/vectree --sh_degree 3 --gs_dim 3 |& tee logs/compression.log\n"
     ]
    }
   ],
   "execution_count": 19
  },
  {
   "metadata": {
    "ExecuteTime": {
     "end_time": "2025-07-06T03:54:47.549615Z",
     "start_time": "2025-07-06T03:54:47.539110Z"
    }
   },
   "cell_type": "code",
   "source": [
    "sh_script = f\"/mnt/Data/yanns/CityGaussian/scripts/{name_train}.sh\"\n",
    "commands = [downsample_command,\n",
    "              estimate_command,\n",
    "              coarse_command,\n",
    "              partition_command,\n",
    "              fine_tune,\n",
    "              merge_command,\n",
    "              test_command,\n",
    "              mesh_command,\n",
    "              compression_command]\n",
    "\n",
    "if not os.path.exists(sh_script):\n",
    "    with open(sh_script, \"w\") as f:\n",
    "        f.write(\"#!/bin/bash\\n\")\n",
    "        f.write(\"set -e\\n\")  # Exit on error\n",
    "        f.write(\"set -x\\n\")  # Print commands before executing them\n",
    "\n",
    "with open(sh_script, \"w\") as f:\n",
    "    for command in commands:\n",
    "        f.write(command + \"\\n\")\n",
    "        f.write(\"echo 'Done: \" + command + \"'\\n\")\n",
    "\n",
    "\n",
    "\n",
    "\n",
    "\n"
   ],
   "id": "7b2bbac3ce3a78b0",
   "outputs": [],
   "execution_count": 20
  },
  {
   "metadata": {
    "ExecuteTime": {
     "end_time": "2025-07-06T03:54:47.684124Z",
     "start_time": "2025-07-06T03:54:47.679187Z"
    }
   },
   "cell_type": "code",
   "source": "",
   "id": "6320791bc575f4b8",
   "outputs": [],
   "execution_count": null
  },
  {
   "metadata": {},
   "cell_type": "code",
   "outputs": [],
   "execution_count": null,
   "source": "",
   "id": "9d503bb8c56c4307"
  }
 ],
 "metadata": {
  "kernelspec": {
   "display_name": "Python 3",
   "language": "python",
   "name": "python3"
  },
  "language_info": {
   "codemirror_mode": {
    "name": "ipython",
    "version": 2
   },
   "file_extension": ".py",
   "mimetype": "text/x-python",
   "name": "python",
   "nbconvert_exporter": "python",
   "pygments_lexer": "ipython2",
   "version": "2.7.6"
  }
 },
 "nbformat": 4,
 "nbformat_minor": 5
}
