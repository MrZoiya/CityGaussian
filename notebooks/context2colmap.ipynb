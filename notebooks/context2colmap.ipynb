{
 "cells": [
  {
   "cell_type": "code",
   "id": "initial_id",
   "metadata": {
    "collapsed": true,
    "ExecuteTime": {
     "end_time": "2025-07-05T03:52:46.501015Z",
     "start_time": "2025-07-05T03:52:46.486713Z"
    }
   },
   "source": [
    "%load_ext autoreload\n",
    "%autoreload 2"
   ],
   "outputs": [],
   "execution_count": 5
  },
  {
   "metadata": {
    "ExecuteTime": {
     "end_time": "2025-07-05T03:52:48.062632Z",
     "start_time": "2025-07-05T03:52:46.767038Z"
    }
   },
   "cell_type": "code",
   "source": [
    "import os\n",
    "import json\n",
    "import numpy as np\n",
    "import torch\n",
    "import xml.etree.ElementTree as ET\n",
    "import sqlite3\n",
    "import internal.utils.colmap as colmap"
   ],
   "id": "6b0a12d70589821d",
   "outputs": [],
   "execution_count": 6
  },
  {
   "metadata": {
    "ExecuteTime": {
     "end_time": "2025-07-05T03:52:48.081632Z",
     "start_time": "2025-07-05T03:52:48.071873Z"
    }
   },
   "cell_type": "code",
   "source": [
    "basic_path = \"/mnt/Data/yanns/CityGaussian/data/lausanne_center\"\n",
    "image_dir_relative = \"AerialPhotography\"\n",
    "def image_path_to_name(image_path):\n",
    "    return image_path.split(\":\")[1][1:]"
   ],
   "id": "c004ebb717326aac",
   "outputs": [],
   "execution_count": 7
  },
  {
   "metadata": {},
   "cell_type": "markdown",
   "source": [
    "# Open XML\n",
    "Looks like the new version has renamed to iTwin"
   ],
   "id": "a84831b71727d41d"
  },
  {
   "metadata": {
    "ExecuteTime": {
     "end_time": "2025-07-05T03:52:49.389690Z",
     "start_time": "2025-07-05T03:52:48.121455Z"
    }
   },
   "cell_type": "code",
   "source": [
    "# `fixed_pp` means the principle points are not adjusted\n",
    "tree = ET.parse(os.path.join(basic_path, \"cameras.xml\"))\n",
    "tree"
   ],
   "id": "74304f7618b4892e",
   "outputs": [
    {
     "data": {
      "text/plain": [
       "<xml.etree.ElementTree.ElementTree at 0x704f640f96d0>"
      ]
     },
     "execution_count": 8,
     "metadata": {},
     "output_type": "execute_result"
    }
   ],
   "execution_count": 8
  },
  {
   "metadata": {
    "ExecuteTime": {
     "end_time": "2025-07-05T03:52:49.412915Z",
     "start_time": "2025-07-05T03:52:49.399948Z"
    }
   },
   "cell_type": "code",
   "source": [
    "root = tree.getroot()\n",
    "root"
   ],
   "id": "564032f0304fd7db",
   "outputs": [
    {
     "data": {
      "text/plain": [
       "<Element 'BlocksExchange' at 0x704ec4384720>"
      ]
     },
     "execution_count": 9,
     "metadata": {},
     "output_type": "execute_result"
    }
   ],
   "execution_count": 9
  },
  {
   "metadata": {
    "ExecuteTime": {
     "end_time": "2025-07-05T03:52:49.460402Z",
     "start_time": "2025-07-05T03:52:49.448896Z"
    }
   },
   "cell_type": "code",
   "source": [
    "block = root.find(\"Block\")\n",
    "block"
   ],
   "id": "293a8897accbd6f4",
   "outputs": [
    {
     "data": {
      "text/plain": [
       "<Element 'Block' at 0x704ec43ac1d0>"
      ]
     },
     "execution_count": 10,
     "metadata": {},
     "output_type": "execute_result"
    }
   ],
   "execution_count": 10
  },
  {
   "metadata": {
    "ExecuteTime": {
     "end_time": "2025-07-05T03:52:49.515827Z",
     "start_time": "2025-07-05T03:52:49.498438Z"
    }
   },
   "cell_type": "code",
   "source": [
    "images_subset = []\n",
    "\n",
    "image_dir_txt = os.path.join(basic_path, \"images.txt\")\n",
    "with open(image_dir_txt, \"r\") as f:\n",
    "    lines = f.readlines()\n",
    "\n",
    "for line in lines:\n",
    "    if line.startswith(\"#\"):\n",
    "        continue\n",
    "    parts = line.strip().split()\n",
    "    if len(parts) < 7:\n",
    "        continue\n",
    "    image_path = parts[-1]\n",
    "    images_subset.append(image_path)"
   ],
   "id": "28848cde28df874e",
   "outputs": [],
   "execution_count": 11
  },
  {
   "metadata": {
    "ExecuteTime": {
     "end_time": "2025-07-05T03:52:50.021248Z",
     "start_time": "2025-07-05T03:52:49.549054Z"
    }
   },
   "cell_type": "code",
   "source": [
    "cameras = []\n",
    "image_paths = []\n",
    "image_names = []\n",
    "poses = []\n",
    "centers = []\n",
    "image_camera_ids = []\n",
    "for photogroup in block.findall(\".//Photogroup\"):\n",
    "    imageDimensions = photogroup.find(\"ImageDimensions\")\n",
    "    width = int(imageDimensions.find(\"Width\").text)\n",
    "    height = int(imageDimensions.find(\"Height\").text)\n",
    "    focal_length = float(photogroup.find(\"FocalLength\").text)\n",
    "    sensor_size = float(photogroup.find(\"SensorSize\").text)\n",
    "\n",
    "    focal_length_in_pixel = focal_length / sensor_size * width\n",
    "\n",
    "    cameras.append({\n",
    "        \"width\": width,\n",
    "        \"height\": height,\n",
    "        \"focal_length\": focal_length_in_pixel,\n",
    "        \"principal_point\": (\n",
    "            float(photogroup.find(\"PrincipalPoint/x\").text), float(photogroup.find(\"PrincipalPoint/y\").text)),\n",
    "        \"distortion\": {i.tag: float(i.text) for i in photogroup.find(\"Distortion\")} if photogroup.find(\"Distortion\") is not None else {\n",
    "            \"K1\": 0.0, \"K2\": 0.0, \"P1\": 0.0, \"P2\": 0.0\n",
    "        },\n",
    "    })\n",
    "    camera_idx = len(cameras) - 1\n",
    "\n",
    "    for photo in photogroup.findall(\"Photo\"):\n",
    "        rotation = list(photo.find(\"Pose/Rotation\"))\n",
    "        center = list(photo.find(\"Pose/Center\"))\n",
    "        if rotation[-1].text == \"false\":\n",
    "            continue\n",
    "        if center[-1].text == \"false\":\n",
    "            continue\n",
    "\n",
    "        path_split = photo.find(\"ImagePath\").text.split(\"/\")[-2:]\n",
    "        path = \"/\".join(path_split)\n",
    "        if path not in images_subset:\n",
    "            continue\n",
    "        image_paths.append(path)\n",
    "        image_names.append(path_split[-1])\n",
    "        poses.append([float(i.text) for i in rotation])\n",
    "        centers.append([float(i.text) for i in center])\n",
    "        image_camera_ids.append(camera_idx)\n",
    "cameras"
   ],
   "id": "5f979783c6d586d9",
   "outputs": [
    {
     "data": {
      "text/plain": [
       "[{'width': 4000,\n",
       "  'height': 3000,\n",
       "  'focal_length': 28684.450198278606,\n",
       "  'principal_point': (3062.4757710447493, 1863.5312040678798),\n",
       "  'distortion': {'K1': -0.8503466409563408,\n",
       "   'K2': 76.78396868259246,\n",
       "   'K3': -5099.555347366658,\n",
       "   'P1': -0.00766350587277634,\n",
       "   'P2': 0.0038759429780537828}},\n",
       " {'width': 4160,\n",
       "  'height': 6240,\n",
       "  'focal_length': 1692.4572914949038,\n",
       "  'principal_point': (2071.506927932276, 3111.5576327788403),\n",
       "  'distortion': {'K1': -0.01498701112121934,\n",
       "   'K2': 0.001471215222452104,\n",
       "   'K3': 0.00014058471536766137,\n",
       "   'P1': -0.0010365026590857566,\n",
       "   'P2': -0.00013122397324184592}},\n",
       " {'width': 8192,\n",
       "  'height': 5460,\n",
       "  'focal_length': 8208.93986357127,\n",
       "  'principal_point': (4066.61713573784, 2728.9156093120364),\n",
       "  'distortion': {'K1': -0.05352835754755979,\n",
       "   'K2': 0.07507916261378193,\n",
       "   'K3': -0.2636898474337305,\n",
       "   'P1': -0.00040454307115629927,\n",
       "   'P2': 0.00041030987016786466}},\n",
       " {'width': 8192,\n",
       "  'height': 5460,\n",
       "  'focal_length': 8210.04464056159,\n",
       "  'principal_point': (4067.011509395482, 2728.8698033589035),\n",
       "  'distortion': {'K1': -0.05657848499302271,\n",
       "   'K2': 0.09537767635186394,\n",
       "   'K3': -0.32387402479986294,\n",
       "   'P1': -0.00038224564883067216,\n",
       "   'P2': 0.00039155742267143697}},\n",
       " {'width': 8192,\n",
       "  'height': 5460,\n",
       "  'focal_length': 8207.497506907972,\n",
       "  'principal_point': (4065.864967177769, 2730.9689649847583),\n",
       "  'distortion': {'K1': -0.05173210901561178,\n",
       "   'K2': 0.0562320312253053,\n",
       "   'K3': -0.20707655856419047,\n",
       "   'P1': -0.0004129795588049962,\n",
       "   'P2': 0.000523488924349197}},\n",
       " {'width': 8192,\n",
       "  'height': 5460,\n",
       "  'focal_length': 8209.884845135944,\n",
       "  'principal_point': (4067.0480717672795, 2729.5662304623816),\n",
       "  'distortion': {'K1': -0.05694994034765454,\n",
       "   'K2': 0.09594458390221235,\n",
       "   'K3': -0.325105828514654,\n",
       "   'P1': -0.00037783484143622567,\n",
       "   'P2': 0.000436785243493332}},\n",
       " {'width': 8192,\n",
       "  'height': 5460,\n",
       "  'focal_length': 8209.56578316617,\n",
       "  'principal_point': (4066.471292596144, 2729.02485160048),\n",
       "  'distortion': {'K1': -0.05580844107407117,\n",
       "   'K2': 0.08975763307622524,\n",
       "   'K3': -0.3080128200123953,\n",
       "   'P1': -0.0004193094764958268,\n",
       "   'P2': 0.00040446520211712264}},\n",
       " {'width': 8192,\n",
       "  'height': 5460,\n",
       "  'focal_length': 8210.911025204821,\n",
       "  'principal_point': (4067.461335366714, 2729.3415995916052),\n",
       "  'distortion': {'K1': -0.05754129827843597,\n",
       "   'K2': 0.10059061092439475,\n",
       "   'K3': -0.33561524229007555,\n",
       "   'P1': -0.0003441393789814284,\n",
       "   'P2': 0.0004218887394007113}},\n",
       " {'width': 5280,\n",
       "  'height': 3956,\n",
       "  'focal_length': 3770.4295930158096,\n",
       "  'principal_point': (2631.0902322750676, 1945.6442157192887),\n",
       "  'distortion': {'K1': -0.19344548031646225,\n",
       "   'K2': 0.21443384141266414,\n",
       "   'K3': -0.23317008928705155,\n",
       "   'P1': -0.00026522629005683995,\n",
       "   'P2': 5.055584911655333e-05}},\n",
       " {'width': 5280,\n",
       "  'height': 3956,\n",
       "  'focal_length': 3769.0999289648103,\n",
       "  'principal_point': (2630.8527437096564, 1945.7779822171615),\n",
       "  'distortion': {'K1': -0.19284448520131353,\n",
       "   'K2': 0.21809142409801013,\n",
       "   'K3': -0.24462199973792806,\n",
       "   'P1': -0.00023664298789557658,\n",
       "   'P2': 3.316563253761876e-05}},\n",
       " {'width': 5280,\n",
       "  'height': 3956,\n",
       "  'focal_length': 3763.2034316671047,\n",
       "  'principal_point': (2631.0574330969, 1946.016642459332),\n",
       "  'distortion': {'K1': -0.17724167512040953,\n",
       "   'K2': 0.1726384120450949,\n",
       "   'K3': -0.18780629161109916,\n",
       "   'P1': -0.00028675536918256226,\n",
       "   'P2': 3.910324297165833e-05}},\n",
       " {'width': 5280,\n",
       "  'height': 3956,\n",
       "  'focal_length': 3781.2199934633013,\n",
       "  'principal_point': (2630.102866245486, 1945.1278898666642),\n",
       "  'distortion': {'K1': -0.19929956377735808,\n",
       "   'K2': 0.23606577763339348,\n",
       "   'K3': -0.2674790773951989,\n",
       "   'P1': -0.00021877356651799206,\n",
       "   'P2': 6.935897626871143e-05}},\n",
       " {'width': 5280,\n",
       "  'height': 3956,\n",
       "  'focal_length': 3779.73455467655,\n",
       "  'principal_point': (2630.3002037814053, 1944.700070593325),\n",
       "  'distortion': {'K1': -0.19388057843434306,\n",
       "   'K2': 0.21781360270009617,\n",
       "   'K3': -0.24238063474905783,\n",
       "   'P1': -0.00026228542547134014,\n",
       "   'P2': 6.673583498983753e-05}},\n",
       " {'width': 5280,\n",
       "  'height': 3956,\n",
       "  'focal_length': 3781.016675651809,\n",
       "  'principal_point': (2631.1120182216127, 1945.9083979776558),\n",
       "  'distortion': {'K1': -0.1975981371275184,\n",
       "   'K2': 0.22773631879920322,\n",
       "   'K3': -0.25378477923976,\n",
       "   'P1': -0.00019450352513034527,\n",
       "   'P2': 7.063160428425409e-05}},\n",
       " {'width': 5280,\n",
       "  'height': 3956,\n",
       "  'focal_length': 3768.608390388651,\n",
       "  'principal_point': (2632.2721572536457, 1947.7999878776864),\n",
       "  'distortion': {'K1': -0.19422654631901906,\n",
       "   'K2': 0.22452832411953663,\n",
       "   'K3': -0.2550953639531815,\n",
       "   'P1': -0.00026145959348284443,\n",
       "   'P2': -1.4137110455904167e-05}},\n",
       " {'width': 6240,\n",
       "  'height': 4160,\n",
       "  'focal_length': 2521.095194844855,\n",
       "  'principal_point': (3114.119627202293, 2081.9110194211394),\n",
       "  'distortion': {'K1': 0.008532341329056815,\n",
       "   'K2': -0.027895628234942065,\n",
       "   'K3': 0.013906014284556619,\n",
       "   'P1': 0.00015548113198601512,\n",
       "   'P2': -0.00012566794458579542}},\n",
       " {'width': 6240,\n",
       "  'height': 4160,\n",
       "  'focal_length': 2523.93235680279,\n",
       "  'principal_point': (3114.1891069841968, 2082.5716475938057),\n",
       "  'distortion': {'K1': 0.00426895770961473,\n",
       "   'K2': -0.023552851377427984,\n",
       "   'K3': 0.011974245319639488,\n",
       "   'P1': 0.00013898611805417065,\n",
       "   'P2': -0.00011126604637816468}},\n",
       " {'width': 6240,\n",
       "  'height': 4160,\n",
       "  'focal_length': 2524.066567963234,\n",
       "  'principal_point': (3114.157569077713, 2080.899968601688),\n",
       "  'distortion': {'K1': 0.005073014982368942,\n",
       "   'K2': -0.024109644719569754,\n",
       "   'K3': 0.012077922524012517,\n",
       "   'P1': 0.00010320181539345396,\n",
       "   'P2': -0.00011221501545288295}},\n",
       " {'width': 6240,\n",
       "  'height': 4160,\n",
       "  'focal_length': 2522.2697282889358,\n",
       "  'principal_point': (3114.935159050033, 2080.9776114688375),\n",
       "  'distortion': {'K1': 0.006065994102847772,\n",
       "   'K2': -0.02474119889974999,\n",
       "   'K3': 0.012186336767064652,\n",
       "   'P1': 0.00015054037216206297,\n",
       "   'P2': -0.00014445855915426196}},\n",
       " {'width': 6240,\n",
       "  'height': 4160,\n",
       "  'focal_length': 2525.211271103233,\n",
       "  'principal_point': (3113.5260492542393, 2082.1819472926354),\n",
       "  'distortion': {'K1': 0.003835640734262683,\n",
       "   'K2': -0.02264900874946123,\n",
       "   'K3': 0.011438075242593453,\n",
       "   'P1': 0.00022593211267060134,\n",
       "   'P2': -0.0001123628002630569}},\n",
       " {'width': 6240,\n",
       "  'height': 4160,\n",
       "  'focal_length': 2525.9826574337753,\n",
       "  'principal_point': (3115.2976176144934, 2081.2675187189234),\n",
       "  'distortion': {'K1': 0.0018531541385204426,\n",
       "   'K2': -0.02019407570073355,\n",
       "   'K3': 0.01008127138582661,\n",
       "   'P1': 0.00024619834791215074,\n",
       "   'P2': -0.00014777841974323227}},\n",
       " {'width': 6240,\n",
       "  'height': 4160,\n",
       "  'focal_length': 2523.9938009246102,\n",
       "  'principal_point': (3115.525457348242, 2081.447735594447),\n",
       "  'distortion': {'K1': 0.00456397325464177,\n",
       "   'K2': -0.023855409341011782,\n",
       "   'K3': 0.012261888490162768,\n",
       "   'P1': 0.0004958538134827757,\n",
       "   'P2': -0.0001357011777522096}},\n",
       " {'width': 6240,\n",
       "  'height': 4160,\n",
       "  'focal_length': 2523.054557848535,\n",
       "  'principal_point': (3115.004662506106, 2081.399985975358),\n",
       "  'distortion': {'K1': 0.0060218671940641235,\n",
       "   'K2': -0.024885654794475687,\n",
       "   'K3': 0.01237384496640486,\n",
       "   'P1': 0.00030768154502546115,\n",
       "   'P2': -9.78844955095856e-05}},\n",
       " {'width': 6240,\n",
       "  'height': 4160,\n",
       "  'focal_length': 2525.2405681652963,\n",
       "  'principal_point': (3114.214304203978, 2081.0750008831137),\n",
       "  'distortion': {'K1': 0.002895263901248797,\n",
       "   'K2': -0.021577746037464998,\n",
       "   'K3': 0.01088264833642074,\n",
       "   'P1': 0.00020519807533551286,\n",
       "   'P2': -0.00012158176370305923}},\n",
       " {'width': 6240,\n",
       "  'height': 4160,\n",
       "  'focal_length': 2526.156147077232,\n",
       "  'principal_point': (3115.379867115303, 2080.7096750411724),\n",
       "  'distortion': {'K1': 0.001415866809535139,\n",
       "   'K2': -0.019352680242568407,\n",
       "   'K3': 0.009560558624845063,\n",
       "   'P1': 0.00026206359830219223,\n",
       "   'P2': -0.0002518767651842428}},\n",
       " {'width': 6240,\n",
       "  'height': 4160,\n",
       "  'focal_length': 2525.089119849992,\n",
       "  'principal_point': (3114.1003063997236, 2081.1646508529966),\n",
       "  'distortion': {'K1': 0.0030647560321765866,\n",
       "   'K2': -0.02151842660607096,\n",
       "   'K3': 0.010826289178269586,\n",
       "   'P1': 0.0003012486926757924,\n",
       "   'P2': -0.00020106382286813086}},\n",
       " {'width': 6240,\n",
       "  'height': 4160,\n",
       "  'focal_length': 2527.079624708618,\n",
       "  'principal_point': (3113.4212636397983, 2082.0722974455703),\n",
       "  'distortion': {'K1': 0.0005035864672657626,\n",
       "   'K2': -0.019494892771691103,\n",
       "   'K3': 0.010377516944743575,\n",
       "   'P1': 0.0002981368330532387,\n",
       "   'P2': -0.00010784276587435683}},\n",
       " {'width': 6240,\n",
       "  'height': 4160,\n",
       "  'focal_length': 2529.1927149211715,\n",
       "  'principal_point': (3117.4446275540813, 2081.7838123935603),\n",
       "  'distortion': {'K1': 0.0007720190438533422,\n",
       "   'K2': -0.01961511452688978,\n",
       "   'K3': 0.009967639922000669,\n",
       "   'P1': 0.0005919216582614326,\n",
       "   'P2': -9.91245387384701e-05}},\n",
       " {'width': 6240,\n",
       "  'height': 4160,\n",
       "  'focal_length': 2524.5082251475715,\n",
       "  'principal_point': (3114.309643812553, 2081.320439853154),\n",
       "  'distortion': {'K1': 0.004046405824488495,\n",
       "   'K2': -0.023424096875395824,\n",
       "   'K3': 0.012048383949429475,\n",
       "   'P1': 0.00026192901300406814,\n",
       "   'P2': -8.685932684089226e-05}},\n",
       " {'width': 6240,\n",
       "  'height': 4160,\n",
       "  'focal_length': 2526.1607830189882,\n",
       "  'principal_point': (3115.8358784528696, 2080.732852460227),\n",
       "  'distortion': {'K1': 0.0007883639404662436,\n",
       "   'K2': -0.019623496362970297,\n",
       "   'K3': 0.010197260985527581,\n",
       "   'P1': 0.000426464834818313,\n",
       "   'P2': -0.0002399993532897554}},\n",
       " {'width': 6240,\n",
       "  'height': 4160,\n",
       "  'focal_length': 2523.6139958555023,\n",
       "  'principal_point': (3114.8293334264545, 2082.1322766862068),\n",
       "  'distortion': {'K1': 0.00429179351351475,\n",
       "   'K2': -0.023382634932512563,\n",
       "   'K3': 0.012077484796032165,\n",
       "   'P1': 0.00020656295410481998,\n",
       "   'P2': -0.00018566870111712703}},\n",
       " {'width': 6240,\n",
       "  'height': 4160,\n",
       "  'focal_length': 2524.8125431257554,\n",
       "  'principal_point': (3115.105698313091, 2081.2689786151004),\n",
       "  'distortion': {'K1': 0.0021466830202006297,\n",
       "   'K2': -0.021619595663019037,\n",
       "   'K3': 0.011288682884578497,\n",
       "   'P1': 0.00023955369827201125,\n",
       "   'P2': -0.0002039819586149435}},\n",
       " {'width': 6240,\n",
       "  'height': 4160,\n",
       "  'focal_length': 2528.835165393691,\n",
       "  'principal_point': (3114.0433080602775, 2082.2411605785237),\n",
       "  'distortion': {'K1': -0.0003707167332513287,\n",
       "   'K2': -0.018368815604809047,\n",
       "   'K3': 0.009608937277695894,\n",
       "   'P1': 0.00017143140633922905,\n",
       "   'P2': -7.77900618252117e-05}},\n",
       " {'width': 5184,\n",
       "  'height': 3888,\n",
       "  'focal_length': 2289.296133713064,\n",
       "  'principal_point': (2571.945426206951, 1961.7132481006136),\n",
       "  'distortion': {'K1': 0.0, 'K2': 0.0, 'P1': 0.0, 'P2': 0.0}},\n",
       " {'width': 5280,\n",
       "  'height': 3956,\n",
       "  'focal_length': 3707.6754919450295,\n",
       "  'principal_point': (2630.3011149733156, 1950.7796410395702),\n",
       "  'distortion': {'K1': -0.09824633295774117,\n",
       "   'K2': -0.02244639740423361,\n",
       "   'K3': 0.00023342067874764926,\n",
       "   'P1': 0.00016054872565665244,\n",
       "   'P2': -4.8491563304177094e-05}}]"
      ]
     },
     "execution_count": 12,
     "metadata": {},
     "output_type": "execute_result"
    }
   ],
   "execution_count": 12
  },
  {
   "metadata": {
    "ExecuteTime": {
     "end_time": "2025-07-05T03:52:50.042125Z",
     "start_time": "2025-07-05T03:52:50.027061Z"
    }
   },
   "cell_type": "code",
   "source": "poses[0], centers[0], image_paths[0]",
   "id": "1cc2734f5d93bff0",
   "outputs": [
    {
     "data": {
      "text/plain": [
       "([0.6273187084002719,\n",
       "  0.778751939539123,\n",
       "  0.004081023777044557,\n",
       "  0.2631995277120081,\n",
       "  -0.20708086440589185,\n",
       "  -0.9422544901506621,\n",
       "  -0.7329374098128646,\n",
       "  0.59216799327637,\n",
       "  -0.33487284308502313],\n",
       " [2538321.1497951504, 1152775.5691866004, 538.2550567952319],\n",
       " '10_Ancienne_Academie_RTK/DJI_20230420094603_0010_V.jpg')"
      ]
     },
     "execution_count": 13,
     "metadata": {},
     "output_type": "execute_result"
    }
   ],
   "execution_count": 13
  },
  {
   "metadata": {},
   "cell_type": "markdown",
   "source": "Convert",
   "id": "b44a790d76e48f0c"
  },
  {
   "metadata": {
    "ExecuteTime": {
     "end_time": "2025-07-05T03:52:50.088258Z",
     "start_time": "2025-07-05T03:52:50.072882Z"
    }
   },
   "cell_type": "code",
   "source": [
    "pose_reshaped = torch.tensor(poses, dtype=torch.float64).reshape([-1, 3, 3])\n",
    "pose_reshaped.shape, pose_reshaped[0]"
   ],
   "id": "5d1532e05a9ddcbc",
   "outputs": [
    {
     "data": {
      "text/plain": [
       "(torch.Size([1887, 3, 3]),\n",
       " tensor([[ 0.6273,  0.7788,  0.0041],\n",
       "         [ 0.2632, -0.2071, -0.9423],\n",
       "         [-0.7329,  0.5922, -0.3349]], dtype=torch.float64))"
      ]
     },
     "execution_count": 14,
     "metadata": {},
     "output_type": "execute_result"
    }
   ],
   "execution_count": 14
  },
  {
   "metadata": {
    "ExecuteTime": {
     "end_time": "2025-07-05T03:52:50.156856Z",
     "start_time": "2025-07-05T03:52:50.140257Z"
    }
   },
   "cell_type": "code",
   "source": [
    "c2w_rotations = torch.transpose(pose_reshaped, 1, 2)\n",
    "(c2w_rotations[0] == pose_reshaped[0].T).all(), c2w_rotations[0]"
   ],
   "id": "9507dd8d6ba4d103",
   "outputs": [
    {
     "data": {
      "text/plain": [
       "(tensor(True),\n",
       " tensor([[ 0.6273,  0.2632, -0.7329],\n",
       "         [ 0.7788, -0.2071,  0.5922],\n",
       "         [ 0.0041, -0.9423, -0.3349]], dtype=torch.float64))"
      ]
     },
     "execution_count": 15,
     "metadata": {},
     "output_type": "execute_result"
    }
   ],
   "execution_count": 15
  },
  {
   "metadata": {
    "ExecuteTime": {
     "end_time": "2025-07-05T03:52:50.208517Z",
     "start_time": "2025-07-05T03:52:50.194060Z"
    }
   },
   "cell_type": "code",
   "source": [
    "c2w = torch.concat([\n",
    "    torch.concat([c2w_rotations, torch.tensor(centers, dtype=torch.float64)[..., None]], dim=-1),\n",
    "    torch.tensor([0., 0., 0., 1.], dtype=torch.float64)[None, None, :].repeat(c2w_rotations.shape[0], 1, 1),\n",
    "], dim=1)\n",
    "c2w.shape, c2w[1], centers[1]"
   ],
   "id": "f9a9364dfb58a71e",
   "outputs": [
    {
     "data": {
      "text/plain": [
       "(torch.Size([1887, 4, 4]),\n",
       " tensor([[ 6.2765e-01,  2.6236e-01, -7.3296e-01,  2.5383e+06],\n",
       "         [ 7.7849e-01, -2.0687e-01,  5.9259e-01,  1.1528e+06],\n",
       "         [ 3.8437e-03, -9.4254e-01, -3.3408e-01,  5.3774e+02],\n",
       "         [ 0.0000e+00,  0.0000e+00,  0.0000e+00,  1.0000e+00]],\n",
       "        dtype=torch.float64),\n",
       " [2538322.440174861, 1152777.2081968973, 537.7370503681381])"
      ]
     },
     "execution_count": 16,
     "metadata": {},
     "output_type": "execute_result"
    }
   ],
   "execution_count": 16
  },
  {
   "metadata": {
    "ExecuteTime": {
     "end_time": "2025-07-05T03:52:50.266814Z",
     "start_time": "2025-07-05T03:52:50.250175Z"
    }
   },
   "cell_type": "code",
   "source": [
    "camera_centers = c2w[:, :3, 3]\n",
    "camera_centers[0], centers[0]"
   ],
   "id": "3d40762e577bc763",
   "outputs": [
    {
     "data": {
      "text/plain": [
       "(tensor([2.5383e+06, 1.1528e+06, 5.3826e+02], dtype=torch.float64),\n",
       " [2538321.1497951504, 1152775.5691866004, 538.2550567952319])"
      ]
     },
     "execution_count": 17,
     "metadata": {},
     "output_type": "execute_result"
    }
   ],
   "execution_count": 17
  },
  {
   "metadata": {},
   "cell_type": "markdown",
   "source": "# Rescale and Translation",
   "id": "e45017cbe57fab76"
  },
  {
   "metadata": {
    "ExecuteTime": {
     "end_time": "2025-07-05T03:52:50.619629Z",
     "start_time": "2025-07-05T03:52:50.607545Z"
    }
   },
   "cell_type": "code",
   "source": [
    "mean_center = torch.mean(camera_centers, dim=0)\n",
    "mean_center"
   ],
   "id": "7f1250052eb39e59",
   "outputs": [
    {
     "data": {
      "text/plain": [
       "tensor([2.5383e+06, 1.1528e+06, 5.3967e+02], dtype=torch.float64)"
      ]
     },
     "execution_count": 18,
     "metadata": {},
     "output_type": "execute_result"
    }
   ],
   "execution_count": 18
  },
  {
   "metadata": {
    "ExecuteTime": {
     "end_time": "2025-07-05T03:52:51.073309Z",
     "start_time": "2025-07-05T03:52:51.058759Z"
    }
   },
   "cell_type": "code",
   "source": [
    "camera_center_min = torch.min(camera_centers, dim=0).values\n",
    "camera_center_max = torch.max(camera_centers, dim=0).values\n",
    "camera_center_range = camera_center_max - camera_center_min\n",
    "camera_center_range"
   ],
   "id": "f016e80918148f3e",
   "outputs": [
    {
     "data": {
      "text/plain": [
       "tensor([75.1446, 72.3476, 39.7840], dtype=torch.float64)"
      ]
     },
     "execution_count": 19,
     "metadata": {},
     "output_type": "execute_result"
    }
   ],
   "execution_count": 19
  },
  {
   "metadata": {
    "ExecuteTime": {
     "end_time": "2025-07-05T03:52:51.535441Z",
     "start_time": "2025-07-05T03:52:51.513483Z"
    }
   },
   "cell_type": "code",
   "source": [
    "mid_center = (camera_center_min + camera_center_max) * 0.5\n",
    "mid_center"
   ],
   "id": "cf91481ce8fc09a2",
   "outputs": [
    {
     "data": {
      "text/plain": [
       "tensor([2.5384e+06, 1.1528e+06, 5.5046e+02], dtype=torch.float64)"
      ]
     },
     "execution_count": 20,
     "metadata": {},
     "output_type": "execute_result"
    }
   ],
   "execution_count": 20
  },
  {
   "metadata": {
    "ExecuteTime": {
     "end_time": "2025-07-05T03:52:51.891913Z",
     "start_time": "2025-07-05T03:52:51.877782Z"
    }
   },
   "cell_type": "code",
   "source": [
    "max_range = 100.\n",
    "scale = camera_center_range.max() / max_range\n",
    "scale"
   ],
   "id": "ebd996911ceefa5b",
   "outputs": [
    {
     "data": {
      "text/plain": [
       "tensor(0.7514, dtype=torch.float64)"
      ]
     },
     "execution_count": 21,
     "metadata": {},
     "output_type": "execute_result"
    }
   ],
   "execution_count": 21
  },
  {
   "metadata": {
    "ExecuteTime": {
     "end_time": "2025-07-05T03:52:52.292308Z",
     "start_time": "2025-07-05T03:52:52.272289Z"
    }
   },
   "cell_type": "code",
   "source": [
    "c2w_rescaled_and_moved = torch.clone(c2w)\n",
    "c2w_rescaled_and_moved[:, :3, 3] -= mid_center\n",
    "c2w_rescaled_and_moved[:, :3, 3] /= scale\n",
    "c2w[0], c2w_rescaled_and_moved[0]"
   ],
   "id": "d13612ee8b8e088a",
   "outputs": [
    {
     "data": {
      "text/plain": [
       "(tensor([[ 6.2732e-01,  2.6320e-01, -7.3294e-01,  2.5383e+06],\n",
       "         [ 7.7875e-01, -2.0708e-01,  5.9217e-01,  1.1528e+06],\n",
       "         [ 4.0810e-03, -9.4225e-01, -3.3487e-01,  5.3826e+02],\n",
       "         [ 0.0000e+00,  0.0000e+00,  0.0000e+00,  1.0000e+00]],\n",
       "        dtype=torch.float64),\n",
       " tensor([[ 6.2732e-01,  2.6320e-01, -7.3294e-01, -4.4776e+01],\n",
       "         [ 7.7875e-01, -2.0708e-01,  5.9217e-01, -1.5581e+01],\n",
       "         [ 4.0810e-03, -9.4225e-01, -3.3487e-01, -1.6236e+01],\n",
       "         [ 0.0000e+00,  0.0000e+00,  0.0000e+00,  1.0000e+00]],\n",
       "        dtype=torch.float64))"
      ]
     },
     "execution_count": 22,
     "metadata": {},
     "output_type": "execute_result"
    }
   ],
   "execution_count": 22
  },
  {
   "metadata": {
    "ExecuteTime": {
     "end_time": "2025-07-05T03:52:52.906141Z",
     "start_time": "2025-07-05T03:52:52.888391Z"
    }
   },
   "cell_type": "code",
   "source": [
    "torch.save({\n",
    "    \"image_names\": image_names,\n",
    "    \"cameras\": cameras,\n",
    "    \"c2w\": c2w,\n",
    "    \"image_camera_ids\": image_camera_ids,\n",
    "    \"center\": mid_center,\n",
    "    \"scale\": scale,\n",
    "}, os.path.join(basic_path, \"parsed_from_xml.pt\"))"
   ],
   "id": "cc6bd96ac2c72e99",
   "outputs": [],
   "execution_count": 23
  },
  {
   "metadata": {},
   "cell_type": "markdown",
   "source": "# Select a few for preview in NeRFStudio",
   "id": "6a0c49d0236e1626"
  },
  {
   "metadata": {
    "ExecuteTime": {
     "end_time": "2025-07-05T03:52:54.224302Z",
     "start_time": "2025-07-05T03:52:54.212517Z"
    }
   },
   "cell_type": "code",
   "source": [
    "distance2center = torch.norm(camera_centers - mean_center[None, :], dim=-1)\n",
    "distance2center"
   ],
   "id": "6d684eef4110036d",
   "outputs": [
    {
     "data": {
      "text/plain": [
       "tensor([28.9990, 27.0974, 25.6044,  ..., 16.9749, 15.8031, 15.2447],\n",
       "       dtype=torch.float64)"
      ]
     },
     "execution_count": 24,
     "metadata": {},
     "output_type": "execute_result"
    }
   ],
   "execution_count": 24
  },
  {
   "metadata": {
    "ExecuteTime": {
     "end_time": "2025-07-05T03:52:54.651412Z",
     "start_time": "2025-07-05T03:52:54.634360Z"
    }
   },
   "cell_type": "code",
   "source": [
    "select_mask = distance2center < 128.\n",
    "select_mask.sum()"
   ],
   "id": "9e14c096c1b8f968",
   "outputs": [
    {
     "data": {
      "text/plain": [
       "tensor(1887)"
      ]
     },
     "execution_count": 25,
     "metadata": {},
     "output_type": "execute_result"
    }
   ],
   "execution_count": 25
  },
  {
   "metadata": {
    "ExecuteTime": {
     "end_time": "2025-07-05T03:52:55.094162Z",
     "start_time": "2025-07-05T03:52:55.077491Z"
    }
   },
   "cell_type": "code",
   "source": [
    "selected_image_ids = select_mask.nonzero().squeeze(-1)\n",
    "selected_image_ids"
   ],
   "id": "e32bfb069b31c6a0",
   "outputs": [
    {
     "data": {
      "text/plain": [
       "tensor([   0,    1,    2,  ..., 1884, 1885, 1886])"
      ]
     },
     "execution_count": 26,
     "metadata": {},
     "output_type": "execute_result"
    }
   ],
   "execution_count": 26
  },
  {
   "metadata": {
    "ExecuteTime": {
     "end_time": "2025-07-05T03:52:55.728528Z",
     "start_time": "2025-07-05T03:52:55.609709Z"
    }
   },
   "cell_type": "code",
   "source": [
    "camera_list = []\n",
    "for idx, pose in enumerate(c2w[select_mask]):\n",
    "    camera_list.append({\n",
    "        \"id\": idx,\n",
    "        \"img_name\": \"{:06d}\".format(idx),\n",
    "        \"width\": 1920,\n",
    "        \"height\": 1080,\n",
    "        \"position\": (pose[:3, 3] * 0.01).tolist(),\n",
    "        \"rotation\": pose[:3, :3].tolist(),\n",
    "        \"fx\": 1600,\n",
    "        \"fy\": 1600,\n",
    "        \"color\": [255, 0, 0],\n",
    "    })\n",
    "with open(os.path.join(os.path.expanduser(\"~/data/image_set/dbl\"), \"preview.json\"), \"w\") as f:\n",
    "    json.dump(camera_list, f)\n",
    "os.path.join(os.path.expanduser(\"~/data/image_set/dbl\"), \"preview.json\")"
   ],
   "id": "cbf3a66d3ff6e97f",
   "outputs": [
    {
     "ename": "FileNotFoundError",
     "evalue": "[Errno 2] No such file or directory: '/home/yanns/data/image_set/dbl/preview.json'",
     "output_type": "error",
     "traceback": [
      "\u001B[0;31m---------------------------------------------------------------------------\u001B[0m",
      "\u001B[0;31mFileNotFoundError\u001B[0m                         Traceback (most recent call last)",
      "Cell \u001B[0;32mIn[27], line 14\u001B[0m\n\u001B[1;32m      2\u001B[0m \u001B[38;5;28;01mfor\u001B[39;00m idx, pose \u001B[38;5;129;01min\u001B[39;00m \u001B[38;5;28menumerate\u001B[39m(c2w[select_mask]):\n\u001B[1;32m      3\u001B[0m     camera_list\u001B[38;5;241m.\u001B[39mappend({\n\u001B[1;32m      4\u001B[0m         \u001B[38;5;124m\"\u001B[39m\u001B[38;5;124mid\u001B[39m\u001B[38;5;124m\"\u001B[39m: idx,\n\u001B[1;32m      5\u001B[0m         \u001B[38;5;124m\"\u001B[39m\u001B[38;5;124mimg_name\u001B[39m\u001B[38;5;124m\"\u001B[39m: \u001B[38;5;124m\"\u001B[39m\u001B[38;5;132;01m{:06d}\u001B[39;00m\u001B[38;5;124m\"\u001B[39m\u001B[38;5;241m.\u001B[39mformat(idx),\n\u001B[0;32m   (...)\u001B[0m\n\u001B[1;32m     12\u001B[0m         \u001B[38;5;124m\"\u001B[39m\u001B[38;5;124mcolor\u001B[39m\u001B[38;5;124m\"\u001B[39m: [\u001B[38;5;241m255\u001B[39m, \u001B[38;5;241m0\u001B[39m, \u001B[38;5;241m0\u001B[39m],\n\u001B[1;32m     13\u001B[0m     })\n\u001B[0;32m---> 14\u001B[0m \u001B[38;5;28;01mwith\u001B[39;00m \u001B[38;5;28;43mopen\u001B[39;49m\u001B[43m(\u001B[49m\u001B[43mos\u001B[49m\u001B[38;5;241;43m.\u001B[39;49m\u001B[43mpath\u001B[49m\u001B[38;5;241;43m.\u001B[39;49m\u001B[43mjoin\u001B[49m\u001B[43m(\u001B[49m\u001B[43mos\u001B[49m\u001B[38;5;241;43m.\u001B[39;49m\u001B[43mpath\u001B[49m\u001B[38;5;241;43m.\u001B[39;49m\u001B[43mexpanduser\u001B[49m\u001B[43m(\u001B[49m\u001B[38;5;124;43m\"\u001B[39;49m\u001B[38;5;124;43m~/data/image_set/dbl\u001B[39;49m\u001B[38;5;124;43m\"\u001B[39;49m\u001B[43m)\u001B[49m\u001B[43m,\u001B[49m\u001B[43m \u001B[49m\u001B[38;5;124;43m\"\u001B[39;49m\u001B[38;5;124;43mpreview.json\u001B[39;49m\u001B[38;5;124;43m\"\u001B[39;49m\u001B[43m)\u001B[49m\u001B[43m,\u001B[49m\u001B[43m \u001B[49m\u001B[38;5;124;43m\"\u001B[39;49m\u001B[38;5;124;43mw\u001B[39;49m\u001B[38;5;124;43m\"\u001B[39;49m\u001B[43m)\u001B[49m \u001B[38;5;28;01mas\u001B[39;00m f:\n\u001B[1;32m     15\u001B[0m     json\u001B[38;5;241m.\u001B[39mdump(camera_list, f)\n\u001B[1;32m     16\u001B[0m os\u001B[38;5;241m.\u001B[39mpath\u001B[38;5;241m.\u001B[39mjoin(os\u001B[38;5;241m.\u001B[39mpath\u001B[38;5;241m.\u001B[39mexpanduser(\u001B[38;5;124m\"\u001B[39m\u001B[38;5;124m~/data/image_set/dbl\u001B[39m\u001B[38;5;124m\"\u001B[39m), \u001B[38;5;124m\"\u001B[39m\u001B[38;5;124mpreview.json\u001B[39m\u001B[38;5;124m\"\u001B[39m)\n",
      "File \u001B[0;32m~/miniconda3/envs/gspl/lib/python3.9/site-packages/IPython/core/interactiveshell.py:286\u001B[0m, in \u001B[0;36m_modified_open\u001B[0;34m(file, *args, **kwargs)\u001B[0m\n\u001B[1;32m    279\u001B[0m \u001B[38;5;28;01mif\u001B[39;00m file \u001B[38;5;129;01min\u001B[39;00m {\u001B[38;5;241m0\u001B[39m, \u001B[38;5;241m1\u001B[39m, \u001B[38;5;241m2\u001B[39m}:\n\u001B[1;32m    280\u001B[0m     \u001B[38;5;28;01mraise\u001B[39;00m \u001B[38;5;167;01mValueError\u001B[39;00m(\n\u001B[1;32m    281\u001B[0m         \u001B[38;5;124mf\u001B[39m\u001B[38;5;124m\"\u001B[39m\u001B[38;5;124mIPython won\u001B[39m\u001B[38;5;124m'\u001B[39m\u001B[38;5;124mt let you open fd=\u001B[39m\u001B[38;5;132;01m{\u001B[39;00mfile\u001B[38;5;132;01m}\u001B[39;00m\u001B[38;5;124m by default \u001B[39m\u001B[38;5;124m\"\u001B[39m\n\u001B[1;32m    282\u001B[0m         \u001B[38;5;124m\"\u001B[39m\u001B[38;5;124mas it is likely to crash IPython. If you know what you are doing, \u001B[39m\u001B[38;5;124m\"\u001B[39m\n\u001B[1;32m    283\u001B[0m         \u001B[38;5;124m\"\u001B[39m\u001B[38;5;124myou can use builtins\u001B[39m\u001B[38;5;124m'\u001B[39m\u001B[38;5;124m open.\u001B[39m\u001B[38;5;124m\"\u001B[39m\n\u001B[1;32m    284\u001B[0m     )\n\u001B[0;32m--> 286\u001B[0m \u001B[38;5;28;01mreturn\u001B[39;00m \u001B[43mio_open\u001B[49m\u001B[43m(\u001B[49m\u001B[43mfile\u001B[49m\u001B[43m,\u001B[49m\u001B[43m \u001B[49m\u001B[38;5;241;43m*\u001B[39;49m\u001B[43margs\u001B[49m\u001B[43m,\u001B[49m\u001B[43m \u001B[49m\u001B[38;5;241;43m*\u001B[39;49m\u001B[38;5;241;43m*\u001B[39;49m\u001B[43mkwargs\u001B[49m\u001B[43m)\u001B[49m\n",
      "\u001B[0;31mFileNotFoundError\u001B[0m: [Errno 2] No such file or directory: '/home/yanns/data/image_set/dbl/preview.json'"
     ]
    }
   ],
   "execution_count": 27
  },
  {
   "metadata": {
    "ExecuteTime": {
     "end_time": "2025-07-05T03:52:56.952781Z",
     "start_time": "2025-07-05T03:52:56.862620Z"
    }
   },
   "cell_type": "code",
   "source": [
    "transforms = {\n",
    "    \"aabb_scale\": 16,\n",
    "}\n",
    "\n",
    "frames = []\n",
    "for idx in selected_image_ids.tolist():\n",
    "    camera_id = image_camera_ids[idx]\n",
    "    file_path = os.path.join(image_dir_relative, image_names[idx])\n",
    "    camera = cameras[camera_id]\n",
    "    transform_matrix = torch.clone(c2w[idx])\n",
    "    transform_matrix[:, 1:3] *= -1\n",
    "    frames.append({\n",
    "        \"file_path\": file_path,\n",
    "        \"camera_model\": \"OPENCV\",\n",
    "        \"fl_x\": camera[\"focal_length\"],\n",
    "        \"fl_y\": camera[\"focal_length\"],\n",
    "        \"k1\": camera[\"distortion\"][\"K1\"],\n",
    "        \"k2\": camera[\"distortion\"][\"K2\"],\n",
    "        \"p1\": camera[\"distortion\"][\"P1\"],\n",
    "        \"p2\": camera[\"distortion\"][\"P2\"],\n",
    "        \"cx\": camera[\"width\"] // 2,\n",
    "        \"cy\": camera[\"height\"] // 2,\n",
    "        \"w\": camera[\"width\"],\n",
    "        \"h\": camera[\"height\"],\n",
    "        \"transform_matrix\": transform_matrix.tolist(),\n",
    "    })\n",
    "\n",
    "transforms[\"frames\"] = frames\n",
    "\n",
    "transforms_json_path = os.path.join(os.path.expanduser(\"~/data/image_set/dbl\"), \"transforms.json\")\n",
    "with open(transforms_json_path, \"w\") as f:\n",
    "    json.dump(transforms, f, indent=2)\n",
    "transforms_json_path"
   ],
   "id": "9b31640cbfb18e44",
   "outputs": [
    {
     "ename": "FileNotFoundError",
     "evalue": "[Errno 2] No such file or directory: '/home/yanns/data/image_set/dbl/transforms.json'",
     "output_type": "error",
     "traceback": [
      "\u001B[0;31m---------------------------------------------------------------------------\u001B[0m",
      "\u001B[0;31mFileNotFoundError\u001B[0m                         Traceback (most recent call last)",
      "Cell \u001B[0;32mIn[28], line 31\u001B[0m\n\u001B[1;32m     28\u001B[0m transforms[\u001B[38;5;124m\"\u001B[39m\u001B[38;5;124mframes\u001B[39m\u001B[38;5;124m\"\u001B[39m] \u001B[38;5;241m=\u001B[39m frames\n\u001B[1;32m     30\u001B[0m transforms_json_path \u001B[38;5;241m=\u001B[39m os\u001B[38;5;241m.\u001B[39mpath\u001B[38;5;241m.\u001B[39mjoin(os\u001B[38;5;241m.\u001B[39mpath\u001B[38;5;241m.\u001B[39mexpanduser(\u001B[38;5;124m\"\u001B[39m\u001B[38;5;124m~/data/image_set/dbl\u001B[39m\u001B[38;5;124m\"\u001B[39m), \u001B[38;5;124m\"\u001B[39m\u001B[38;5;124mtransforms.json\u001B[39m\u001B[38;5;124m\"\u001B[39m)\n\u001B[0;32m---> 31\u001B[0m \u001B[38;5;28;01mwith\u001B[39;00m \u001B[38;5;28;43mopen\u001B[39;49m\u001B[43m(\u001B[49m\u001B[43mtransforms_json_path\u001B[49m\u001B[43m,\u001B[49m\u001B[43m \u001B[49m\u001B[38;5;124;43m\"\u001B[39;49m\u001B[38;5;124;43mw\u001B[39;49m\u001B[38;5;124;43m\"\u001B[39;49m\u001B[43m)\u001B[49m \u001B[38;5;28;01mas\u001B[39;00m f:\n\u001B[1;32m     32\u001B[0m     json\u001B[38;5;241m.\u001B[39mdump(transforms, f, indent\u001B[38;5;241m=\u001B[39m\u001B[38;5;241m2\u001B[39m)\n\u001B[1;32m     33\u001B[0m transforms_json_path\n",
      "File \u001B[0;32m~/miniconda3/envs/gspl/lib/python3.9/site-packages/IPython/core/interactiveshell.py:286\u001B[0m, in \u001B[0;36m_modified_open\u001B[0;34m(file, *args, **kwargs)\u001B[0m\n\u001B[1;32m    279\u001B[0m \u001B[38;5;28;01mif\u001B[39;00m file \u001B[38;5;129;01min\u001B[39;00m {\u001B[38;5;241m0\u001B[39m, \u001B[38;5;241m1\u001B[39m, \u001B[38;5;241m2\u001B[39m}:\n\u001B[1;32m    280\u001B[0m     \u001B[38;5;28;01mraise\u001B[39;00m \u001B[38;5;167;01mValueError\u001B[39;00m(\n\u001B[1;32m    281\u001B[0m         \u001B[38;5;124mf\u001B[39m\u001B[38;5;124m\"\u001B[39m\u001B[38;5;124mIPython won\u001B[39m\u001B[38;5;124m'\u001B[39m\u001B[38;5;124mt let you open fd=\u001B[39m\u001B[38;5;132;01m{\u001B[39;00mfile\u001B[38;5;132;01m}\u001B[39;00m\u001B[38;5;124m by default \u001B[39m\u001B[38;5;124m\"\u001B[39m\n\u001B[1;32m    282\u001B[0m         \u001B[38;5;124m\"\u001B[39m\u001B[38;5;124mas it is likely to crash IPython. If you know what you are doing, \u001B[39m\u001B[38;5;124m\"\u001B[39m\n\u001B[1;32m    283\u001B[0m         \u001B[38;5;124m\"\u001B[39m\u001B[38;5;124myou can use builtins\u001B[39m\u001B[38;5;124m'\u001B[39m\u001B[38;5;124m open.\u001B[39m\u001B[38;5;124m\"\u001B[39m\n\u001B[1;32m    284\u001B[0m     )\n\u001B[0;32m--> 286\u001B[0m \u001B[38;5;28;01mreturn\u001B[39;00m \u001B[43mio_open\u001B[49m\u001B[43m(\u001B[49m\u001B[43mfile\u001B[49m\u001B[43m,\u001B[49m\u001B[43m \u001B[49m\u001B[38;5;241;43m*\u001B[39;49m\u001B[43margs\u001B[49m\u001B[43m,\u001B[49m\u001B[43m \u001B[49m\u001B[38;5;241;43m*\u001B[39;49m\u001B[38;5;241;43m*\u001B[39;49m\u001B[43mkwargs\u001B[49m\u001B[43m)\u001B[49m\n",
      "\u001B[0;31mFileNotFoundError\u001B[0m: [Errno 2] No such file or directory: '/home/yanns/data/image_set/dbl/transforms.json'"
     ]
    }
   ],
   "execution_count": 28
  },
  {
   "metadata": {},
   "cell_type": "markdown",
   "source": "# Colmap",
   "id": "7c8e70329b4e0752"
  },
  {
   "metadata": {
    "ExecuteTime": {
     "end_time": "2025-07-05T03:52:58.039152Z",
     "start_time": "2025-07-05T03:52:58.028279Z"
    }
   },
   "cell_type": "code",
   "source": [
    "colmap_output_path = os.path.join(basic_path, \"colmap\")\n",
    "image_dir_relative = \"images\"  # relative path to the images directory\n",
    "colmap_image_path = os.path.join(basic_path, image_dir_relative)\n"
   ],
   "id": "ddcc5c1084da6357",
   "outputs": [],
   "execution_count": 29
  },
  {
   "metadata": {
    "ExecuteTime": {
     "end_time": "2025-07-05T03:54:05.948635Z",
     "start_time": "2025-07-05T03:54:05.935707Z"
    }
   },
   "cell_type": "code",
   "source": [
    "colmap_db_path = os.path.join(colmap_output_path, \"colmap.db\")\n",
    "#assert os.path.exists(colmap_db_path) is False\n",
    "print(\" \\\\\\n    \".join([\n",
    "    \"colmap\",\n",
    "    \"feature_extractor\",\n",
    "    \"--database_path=\" + colmap_db_path,\n",
    "    \"--image_path=\" + colmap_image_path,\n",
    "    \"--ImageReader.camera_model=OPENCV\",\n",
    "]))"
   ],
   "id": "287d774cc4a57b9c",
   "outputs": [
    {
     "name": "stdout",
     "output_type": "stream",
     "text": [
      "colmap \\\n",
      "    feature_extractor \\\n",
      "    --database_path=/mnt/Data/yanns/CityGaussian/data/lausanne_center/colmap/colmap.db \\\n",
      "    --image_path=/mnt/Data/yanns/CityGaussian/data/lausanne_center/images \\\n",
      "    --ImageReader.camera_model=OPENCV\n"
     ]
    }
   ],
   "execution_count": 39
  },
  {
   "metadata": {},
   "cell_type": "markdown",
   "source": "create a sparse model from known poses",
   "id": "566d523ec1eb0f67"
  },
  {
   "metadata": {
    "ExecuteTime": {
     "end_time": "2025-07-05T03:54:08.007882Z",
     "start_time": "2025-07-05T03:54:07.993191Z"
    }
   },
   "cell_type": "code",
   "source": "sparse_manually_model_dir = os.path.join(colmap_output_path, \"sparse_manually\")",
   "id": "1be723a16543039c",
   "outputs": [],
   "execution_count": 40
  },
  {
   "metadata": {
    "ExecuteTime": {
     "end_time": "2025-07-05T03:54:58.651029Z",
     "start_time": "2025-07-05T03:54:58.635320Z"
    }
   },
   "cell_type": "code",
   "source": [
    "#assert os.path.exists(sparse_manually_model_dir) is False\n",
    "#assert os.path.exists(colmap_db_path + \"-shm\") is False, \"{} is opened by another process\".format(colmap_db_path)\n",
    "\n",
    "colmap_db = sqlite3.connect(colmap_db_path)\n",
    "\n",
    "def array_to_blob(array):\n",
    "    return array.tostring()\n",
    "\n",
    "\n",
    "def select_image(image_name: str):\n",
    "    cur = colmap_db.cursor()\n",
    "    try:\n",
    "        return cur.execute(\"SELECT image_id, camera_id FROM images WHERE name = ?\", [image_name]).fetchone()\n",
    "    except sqlite3.OperationalError as e:\n",
    "        print(\"No image found with name:\", image_name)\n",
    "        return (None, None)\n",
    "    finally:\n",
    "        cur.close()\n",
    "\n",
    "\n",
    "def set_image_camera_id(image_id: int, camera_id: int):\n",
    "    cur = colmap_db.cursor()\n",
    "    try:\n",
    "        cur.execute(\"UPDATE images SET camera_id = ? WHERE image_id = ?\", [camera_id, image_id])\n",
    "        colmap_db.commit()\n",
    "    finally:\n",
    "        cur.close()\n",
    "\n",
    "\n",
    "def update_camera_params(camera_id: int, params: np.ndarray):\n",
    "    cur = colmap_db.cursor()\n",
    "    try:\n",
    "        cur.execute(\"UPDATE cameras SET params = ? WHERE camera_id = ?\", [\n",
    "            array_to_blob(params),\n",
    "            camera_id,\n",
    "        ])\n",
    "        colmap_db.commit()\n",
    "    finally:\n",
    "        cur.close()\n",
    "\n",
    "def remove_from_db(image_name: str):\n",
    "    cur = colmap_db.cursor()\n",
    "    try:\n",
    "        cur.execute(\"DELETE FROM images WHERE name = ?\", [image_name])\n",
    "        colmap_db.commit()\n",
    "    except sqlite3.OperationalError as e:\n",
    "        print(\"Error deleting image:\", e)\n",
    "    finally:\n",
    "        cur.close()\n",
    "\n",
    "\n",
    "def delete_unused_cameras():\n",
    "    cur = colmap_db.cursor()\n",
    "    try:\n",
    "        cur.execute(\"DELETE FROM cameras WHERE camera_id NOT IN (SELECT camera_id FROM images)\")\n",
    "        colmap_db.commit()\n",
    "    finally:\n",
    "        cur.close()"
   ],
   "id": "edf9c49745cdaa35",
   "outputs": [],
   "execution_count": 44
  },
  {
   "metadata": {
    "ExecuteTime": {
     "end_time": "2025-07-05T03:54:58.988227Z",
     "start_time": "2025-07-05T03:54:58.973407Z"
    }
   },
   "cell_type": "code",
   "source": [
    "w2cs = torch.linalg.inv(c2w_rescaled_and_moved)\n",
    "w2cs[0], c2w_rescaled_and_moved[0]"
   ],
   "id": "5e7e718f131fcd46",
   "outputs": [
    {
     "data": {
      "text/plain": [
       "(tensor([[ 6.2732e-01,  7.7875e-01,  4.0810e-03,  4.0289e+01],\n",
       "         [ 2.6320e-01, -2.0708e-01, -9.4225e-01, -6.7397e+00],\n",
       "         [-7.3294e-01,  5.9217e-01, -3.3487e-01, -2.9029e+01],\n",
       "         [ 6.0286e-20, -3.3706e-18, -5.4978e-19,  1.0000e+00]],\n",
       "        dtype=torch.float64),\n",
       " tensor([[ 6.2732e-01,  2.6320e-01, -7.3294e-01, -4.4776e+01],\n",
       "         [ 7.7875e-01, -2.0708e-01,  5.9217e-01, -1.5581e+01],\n",
       "         [ 4.0810e-03, -9.4225e-01, -3.3487e-01, -1.6236e+01],\n",
       "         [ 0.0000e+00,  0.0000e+00,  0.0000e+00,  1.0000e+00]],\n",
       "        dtype=torch.float64))"
      ]
     },
     "execution_count": 45,
     "metadata": {},
     "output_type": "execute_result"
    }
   ],
   "execution_count": 45
  },
  {
   "metadata": {
    "ExecuteTime": {
     "end_time": "2025-07-05T03:54:59.667055Z",
     "start_time": "2025-07-05T03:54:59.441763Z"
    }
   },
   "cell_type": "code",
   "source": [
    "colmap_cameras = {}\n",
    "colmap_images = {}\n",
    "context_camera_idx_to_colmap_camera_idx = {}\n",
    "\n",
    "i = 0\n",
    "for idx in range(c2w.shape[0]):\n",
    "    image_name = image_paths[idx]\n",
    "    if not select_image(image_name) :\n",
    "        remove_from_db(image_name)\n",
    "        continue\n",
    "    colmap_image_idx, colmap_camera_idx = select_image(image_name)\n",
    "    context_camera_idx = image_camera_ids[idx]\n",
    "    colmap_camera_idx = context_camera_idx_to_colmap_camera_idx.setdefault(context_camera_idx, colmap_camera_idx)\n",
    "    set_image_camera_id(colmap_image_idx, colmap_camera_idx)\n",
    "\n",
    "    w2c = w2cs[idx]\n",
    "\n",
    "    colmap_images[colmap_image_idx] = colmap.Image(\n",
    "        id=colmap_image_idx,\n",
    "        qvec=colmap.rotmat2qvec(w2c[:3, :3].numpy()),\n",
    "        tvec=w2c[:3, 3].numpy(),\n",
    "        camera_id=colmap_camera_idx,\n",
    "        name=image_name,\n",
    "        xys=np.array([], dtype=np.float64),\n",
    "        point3D_ids=np.asarray([], dtype=np.int64),\n",
    "    )\n",
    "\n",
    "    if colmap_camera_idx not in colmap_cameras:\n",
    "        camera = cameras[context_camera_idx]\n",
    "        # [fx, fy, cx, cy, k1, k2, p1, p2]\n",
    "        camera_params = torch.tensor([\n",
    "            camera[\"focal_length\"],\n",
    "            camera[\"focal_length\"],\n",
    "            camera[\"width\"] // 2,\n",
    "            camera[\"height\"] // 2,\n",
    "            camera[\"distortion\"][\"K1\"],\n",
    "            camera[\"distortion\"][\"K2\"],\n",
    "            camera[\"distortion\"][\"P1\"],\n",
    "            camera[\"distortion\"][\"P2\"],\n",
    "        ], dtype=torch.float64)\n",
    "        update_camera_params(colmap_camera_idx, camera_params.numpy())\n",
    "        colmap_cameras[colmap_camera_idx] = colmap.Camera(\n",
    "            id=colmap_camera_idx,\n",
    "            model=\"OPENCV\",\n",
    "            width=camera[\"width\"],\n",
    "            height=camera[\"height\"],\n",
    "            params=camera_params.numpy(),\n",
    "        )\n",
    "delete_unused_cameras()\n",
    "#colmap_db.close()"
   ],
   "id": "4ed0f4f96318bf0e",
   "outputs": [
    {
     "name": "stderr",
     "output_type": "stream",
     "text": [
      "/tmp/ipykernel_442454/2486671127.py:7: DeprecationWarning: tostring() is deprecated. Use tobytes() instead.\n",
      "  return array.tostring()\n"
     ]
    }
   ],
   "execution_count": 46
  },
  {
   "metadata": {
    "ExecuteTime": {
     "end_time": "2025-07-05T03:55:59.981068Z",
     "start_time": "2025-07-05T03:55:59.968175Z"
    }
   },
   "cell_type": "code",
   "source": [
    "#see all camera ids\n",
    "np.unique(list([i.camera_id for i in colmap_images.values()])).tolist()"
   ],
   "id": "321c07b0817b3abb",
   "outputs": [
    {
     "data": {
      "text/plain": [
       "[1, 2, 3]"
      ]
     },
     "execution_count": 49,
     "metadata": {},
     "output_type": "execute_result"
    }
   ],
   "execution_count": 49
  },
  {
   "metadata": {
    "ExecuteTime": {
     "end_time": "2025-07-05T03:56:01.708099Z",
     "start_time": "2025-07-05T03:56:01.651778Z"
    }
   },
   "cell_type": "code",
   "source": [
    "#os.makedirs(sparse_manually_model_dir)\n",
    "colmap.write_images_binary(colmap_images, os.path.join(sparse_manually_model_dir, \"images.bin\"))\n",
    "colmap.write_cameras_binary(colmap_cameras, os.path.join(sparse_manually_model_dir, \"cameras.bin\"))\n",
    "colmap.write_points3D_binary({}, os.path.join(sparse_manually_model_dir, \"points3D.bin\"))"
   ],
   "id": "aeb47714c765b34c",
   "outputs": [],
   "execution_count": 50
  },
  {
   "metadata": {
    "ExecuteTime": {
     "end_time": "2025-07-05T03:56:08.584792Z",
     "start_time": "2025-07-05T03:56:08.572550Z"
    }
   },
   "cell_type": "code",
   "source": "colmap.read_cameras_binary(os.path.join(sparse_manually_model_dir, \"cameras.bin\"))",
   "id": "c7a858c6d56da2a5",
   "outputs": [
    {
     "data": {
      "text/plain": [
       "{1: Camera(id=1, model='OPENCV', width=5280, height=3956, params=array([ 3.77042959e+03,  3.77042959e+03,  2.64000000e+03,  1.97800000e+03,\n",
       "        -1.93445480e-01,  2.14433841e-01, -2.65226290e-04,  5.05558491e-05])),\n",
       " 2: Camera(id=2, model='OPENCV', width=6240, height=4160, params=array([ 2.52109519e+03,  2.52109519e+03,  3.12000000e+03,  2.08000000e+03,\n",
       "         8.53234133e-03, -2.78956282e-02,  1.55481132e-04, -1.25667945e-04])),\n",
       " 3: Camera(id=3, model='OPENCV', width=5184, height=3888, params=array([2289.29613371, 2289.29613371, 2592.        , 1944.        ,\n",
       "           0.        ,    0.        ,    0.        ,    0.        ]))}"
      ]
     },
     "execution_count": 51,
     "metadata": {},
     "output_type": "execute_result"
    }
   ],
   "execution_count": 51
  },
  {
   "metadata": {},
   "cell_type": "markdown",
   "source": "feature matcher",
   "id": "9876bf6f25d9bc2d"
  },
  {
   "metadata": {
    "ExecuteTime": {
     "end_time": "2025-07-05T03:57:12.480192Z",
     "start_time": "2025-07-05T03:57:12.466403Z"
    }
   },
   "cell_type": "code",
   "source": [
    "print(\" \\\\\\n    \".join([\n",
    "    \"colmap\",\n",
    "    \"vocab_tree_matcher\",\n",
    "    \"--database_path=\" + colmap_db_path,\n",
    "    \"--VocabTreeMatching.vocab_tree_path=\" + \"data/lausanne/vocab_tree_faiss_flickr100K_words256K.bin\",\n",
    "]))"
   ],
   "id": "d7b519bac1e17317",
   "outputs": [
    {
     "name": "stdout",
     "output_type": "stream",
     "text": [
      "colmap \\\n",
      "    vocab_tree_matcher \\\n",
      "    --database_path=/mnt/Data/yanns/CityGaussian/data/lausanne_center/colmap/colmap.db \\\n",
      "    --VocabTreeMatching.vocab_tree_path=data/lausanne/vocab_tree_faiss_flickr100K_words256K.bin\n"
     ]
    }
   ],
   "execution_count": 54
  },
  {
   "metadata": {},
   "cell_type": "markdown",
   "source": "point triangulator",
   "id": "a6aeac933ef8563b"
  },
  {
   "metadata": {
    "ExecuteTime": {
     "end_time": "2025-07-05T05:11:30.309438Z",
     "start_time": "2025-07-05T05:11:30.297925Z"
    }
   },
   "cell_type": "code",
   "source": [
    "sparse_dir_triangulated = os.path.join(colmap_output_path, \"sparse\")\n",
    "os.makedirs(sparse_dir_triangulated, exist_ok=True)\n",
    "print(\" \\\\\\n    \".join([\n",
    "        \"colmap\",\n",
    "        \"point_triangulator\",\n",
    "        \"--database_path=\" + colmap_db_path,\n",
    "        \"--image_path=\" + colmap_image_path,\n",
    "        \"--input_path=\" + sparse_manually_model_dir,\n",
    "        \"--output_path=\" + sparse_dir_triangulated,\n",
    "]))"
   ],
   "id": "4f71c83132006143",
   "outputs": [
    {
     "name": "stdout",
     "output_type": "stream",
     "text": [
      "colmap \\\n",
      "    point_triangulator \\\n",
      "    --database_path=/mnt/Data/yanns/CityGaussian/data/lausanne_center/colmap/colmap.db \\\n",
      "    --image_path=/mnt/Data/yanns/CityGaussian/data/lausanne_center/images \\\n",
      "    --input_path=/mnt/Data/yanns/CityGaussian/data/lausanne_center/colmap/sparse_manually \\\n",
      "    --output_path=/mnt/Data/yanns/CityGaussian/data/lausanne_center/colmap/sparse\n"
     ]
    }
   ],
   "execution_count": 55
  },
  {
   "metadata": {
    "ExecuteTime": {
     "end_time": "2025-07-05T05:40:50.015170Z",
     "start_time": "2025-07-05T05:40:49.478435Z"
    }
   },
   "cell_type": "code",
   "source": [
    "bundle_output_path = os.path.join(colmap_output_path, \"bundle_adjusted\")\n",
    "print(\" \\\\\\n    \".join([\n",
    "    \"colmap \",\n",
    "    \"bundle_adjuster \",\n",
    "    \"--input_path \" + sparse_dir_triangulated,\n",
    "    \"--output_path \" + bundle_output_path\n",
    "]))"
   ],
   "id": "3d5136c798c9efa8",
   "outputs": [
    {
     "name": "stdout",
     "output_type": "stream",
     "text": [
      "colmap  \\\n",
      "    bundle_adjuster  \\\n",
      "    --input_path /mnt/Data/yanns/CityGaussian/data/lausanne_center/colmap/sparse \\\n",
      "    --output_path /mnt/Data/yanns/CityGaussian/data/lausanne_center/colmap/bundle_adjusted\n"
     ]
    }
   ],
   "execution_count": 61
  },
  {
   "metadata": {},
   "cell_type": "code",
   "outputs": [],
   "execution_count": null,
   "source": "",
   "id": "4336fe164763f9d5"
  }
 ],
 "metadata": {
  "kernelspec": {
   "display_name": "Python 3",
   "language": "python",
   "name": "python3"
  },
  "language_info": {
   "codemirror_mode": {
    "name": "ipython",
    "version": 2
   },
   "file_extension": ".py",
   "mimetype": "text/x-python",
   "name": "python",
   "nbconvert_exporter": "python",
   "pygments_lexer": "ipython2",
   "version": "2.7.6"
  }
 },
 "nbformat": 4,
 "nbformat_minor": 5
}
